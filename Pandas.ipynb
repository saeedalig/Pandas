{
  "cells": [
    {
      "cell_type": "markdown",
      "metadata": {
        "id": "view-in-github",
        "colab_type": "text"
      },
      "source": [
        "<a href=\"https://colab.research.google.com/github/saeedalig/Pandas-Tutorial/blob/main/Pandas.ipynb\" target=\"_parent\"><img src=\"https://colab.research.google.com/assets/colab-badge.svg\" alt=\"Open In Colab\"/></a>"
      ]
    },
    {
      "cell_type": "markdown",
      "id": "7eae0f6e",
      "metadata": {
        "id": "7eae0f6e"
      },
      "source": [
        "## Introduction to Pandas\n",
        "\n",
        "Pandas is an open-source library that is made mainly for working with relational or labeled data. It provides various data structures and operations for manipulating numerical data and time series. This library is built on top of the NumPy library. Pandas is fast and it has high performance & productivity for users.\n",
        "\n",
        "Advantages\n",
        "\n",
        "1.Fast and efficient for manipulating and analyzing data.\\\n",
        "2.Data from different file objects can be loaded.\\\n",
        "3.Easy handling of missing data (represented as NaN) in floating point as well as non-floating point data\\\n",
        "4.Size mutability: columns can be inserted and deleted from DataFrame and higher dimensional objects\\\n",
        "5.Data set merging and joining.\\\n",
        "6.Flexible reshaping and pivoting of data sets\\\n",
        "7.Provides time-series functionality.\n",
        "\n",
        "\n",
        "Pandas generally provide two data structures for manipulating data, They are:\n",
        "\n",
        "Series \\\n",
        "DataFrame  "
      ]
    },
    {
      "cell_type": "markdown",
      "id": "532cb449",
      "metadata": {
        "id": "532cb449"
      },
      "source": [
        "### Series [ pd.Series()]\n",
        "\n",
        "Pandas Series is a one-dimensional labeled array capable of holding data of any type (integer, string, float, python objects, etc.). The axis labels are collectively called indexes. Pandas Series is nothing but a column in an excel sheet. Labels need not be unique but must be a hashable type. The object supports both integer and label-based indexing and provides a host of methods for performing operations involving the index.\n"
      ]
    },
    {
      "cell_type": "markdown",
      "id": "bbcd8fee",
      "metadata": {
        "id": "bbcd8fee"
      },
      "source": [
        "### DataFrame  [ pd.DataFrame() ]\n",
        "\n",
        "Pandas DataFrame is a two-dimensional size-mutable, potentially heterogeneous tabular data structure with labeled axes (rows and columns). A Data frame is a two-dimensional data structure, i.e., data is aligned in a tabular fashion in rows and columns. Pandas DataFrame consists of three principal components, the data, rows, and columns."
      ]
    },
    {
      "cell_type": "code",
      "execution_count": null,
      "id": "2463842e",
      "metadata": {
        "id": "2463842e"
      },
      "outputs": [],
      "source": [
        "import pandas as pd\n",
        "import numpy as np\n",
        "import matplotlib.pyplot as plt\n",
        "import seaborn as sns"
      ]
    },
    {
      "cell_type": "code",
      "execution_count": null,
      "id": "7a55add2",
      "metadata": {
        "id": "7a55add2",
        "outputId": "a829f8ee-f44d-48e6-f649-f3112051acaf"
      },
      "outputs": [
        {
          "name": "stdout",
          "output_type": "stream",
          "text": [
            "0    1\n",
            "1    2\n",
            "2    3\n",
            "3    4\n",
            "4    5\n",
            "dtype: int64\n",
            "\n",
            "values : [1 2 3 4 5]\n",
            "\n",
            "index : RangeIndex(start=0, stop=5, step=1)\n"
          ]
        }
      ],
      "source": [
        "ser = pd.Series([1,2,3,4,5])  ## 0-4 --> index( by default )  1-5 --> values\n",
        "print(ser)\n",
        "print()\n",
        "print('values :', ser.values)\n",
        "print()\n",
        "print('index :', ser.index)"
      ]
    },
    {
      "cell_type": "code",
      "execution_count": null,
      "id": "1e56f5fc",
      "metadata": {
        "id": "1e56f5fc",
        "outputId": "cc8adc45-7af8-42bf-ed88-9a5180f78539"
      },
      "outputs": [
        {
          "name": "stdout",
          "output_type": "stream",
          "text": [
            "0    1\n",
            "1    2\n",
            "2    3\n",
            "3    4\n",
            "dtype: int64\n",
            "\n",
            "0    False\n",
            "1    False\n",
            "2    False\n",
            "3     True\n",
            "4     True\n",
            "dtype: bool\n",
            "\n",
            "3    4\n",
            "4    5\n",
            "dtype: int64\n"
          ]
        }
      ],
      "source": [
        "# sclicing\n",
        "print(ser[0:4])\n",
        "print()\n",
        "print(ser > 3)  ## give true/false\n",
        "print()\n",
        "print(ser[ser > 3])"
      ]
    },
    {
      "cell_type": "code",
      "execution_count": null,
      "id": "a63524e2",
      "metadata": {
        "id": "a63524e2",
        "outputId": "011bbfaf-5729-4729-c18a-d5815065b11d"
      },
      "outputs": [
        {
          "name": "stdout",
          "output_type": "stream",
          "text": [
            "0    1\n",
            "1    2\n",
            "2    3\n",
            "3    4\n",
            "4    5\n",
            "dtype: int64\n",
            "\n",
            "True\n",
            "\n",
            "True\n"
          ]
        }
      ],
      "source": [
        "ser = pd.Series([1,2,3,4,5])  ## 0-4 --> index( by default )  1-5 --> values\n",
        "print(ser)\n",
        "print()\n",
        "\n",
        "print(2 in ser) ## whether 2 is present or not in given values (Boolean)\n",
        "2 in ser.values\n",
        "print()\n",
        "\n",
        "print(2 in ser.index)  ## ## whether 2 is present or not in given indexes (Boolean)"
      ]
    },
    {
      "cell_type": "code",
      "execution_count": null,
      "id": "d0e7608c",
      "metadata": {
        "id": "d0e7608c",
        "outputId": "55d104b8-3378-4d57-c8ca-8820d112dce9"
      },
      "outputs": [
        {
          "name": "stdout",
          "output_type": "stream",
          "text": [
            "a    30\n",
            "f    10\n",
            "c    50\n",
            "z    40\n",
            "e    20\n",
            "dtype: int64\n",
            "\n",
            "a    30\n",
            "c    50\n",
            "e    20\n",
            "f    10\n",
            "z    40\n",
            "dtype: int64\n",
            "\n",
            "f    10\n",
            "e    20\n",
            "a    30\n",
            "z    40\n",
            "c    50\n",
            "dtype: int64\n"
          ]
        }
      ],
      "source": [
        "ser1 = pd.Series([30,10,50,40,20], index=['a','f','c','z','e'])  ## you can give your own indexes\n",
        "print(ser1)\n",
        "print()\n",
        "\n",
        "## sorted the index\n",
        "print(ser1.sort_index())\n",
        "print()\n",
        "\n",
        "## sorted the values (ascending order)\n",
        "print(ser1.sort_values())"
      ]
    },
    {
      "cell_type": "code",
      "execution_count": null,
      "id": "8c6c98ae",
      "metadata": {
        "id": "8c6c98ae",
        "outputId": "de0832c7-6c71-443c-f8cc-53b4d0415605"
      },
      "outputs": [
        {
          "name": "stdout",
          "output_type": "stream",
          "text": [
            "e    10.0\n",
            "t    50.0\n",
            "s     NaN\n",
            "a    60.0\n",
            "l    30.0\n",
            "g    15.0\n",
            "dtype: float64\n",
            "\n",
            "a    60.0\n",
            "e    10.0\n",
            "g    15.0\n",
            "l    30.0\n",
            "s     NaN\n",
            "t    50.0\n",
            "dtype: float64\n",
            "\n",
            "e    10.0\n",
            "g    15.0\n",
            "l    30.0\n",
            "t    50.0\n",
            "a    60.0\n",
            "s     NaN\n",
            "dtype: float64\n"
          ]
        }
      ],
      "source": [
        "ser2 = pd.Series([10,50, np.nan,60,30,15], index=['e','t','s', 'a', 'l', 'g'])\n",
        "print(ser2)\n",
        "print()\n",
        "\n",
        "print(ser2.sort_index())\n",
        "\n",
        "print()\n",
        "\n",
        "print(ser2.sort_values())"
      ]
    },
    {
      "cell_type": "markdown",
      "id": "7ab5d546",
      "metadata": {
        "id": "7ab5d546"
      },
      "source": [
        "### rank() \n",
        "DataFrame.rank(axis=0, method=’average’, numeric_only=None, na_option=’keep’, ascending=True, pct=False)"
      ]
    },
    {
      "cell_type": "code",
      "execution_count": null,
      "id": "6f875b17",
      "metadata": {
        "id": "6f875b17",
        "outputId": "1e3816ad-a7c3-4a7d-a63e-dbbbee235895"
      },
      "outputs": [
        {
          "name": "stdout",
          "output_type": "stream",
          "text": [
            "e    1.0\n",
            "t    4.0\n",
            "s    NaN\n",
            "a    5.0\n",
            "l    3.0\n",
            "g    2.0\n",
            "dtype: float64\n"
          ]
        }
      ],
      "source": [
        "ser2 = pd.Series([10,50, np.nan,60,30,15], index=['e','t','s', 'a', 'l', 'g'])\n",
        "print(ser2.rank(ascending=True ,method='dense'))"
      ]
    },
    {
      "cell_type": "code",
      "execution_count": null,
      "id": "e0ef0061",
      "metadata": {
        "id": "e0ef0061",
        "outputId": "597192d7-3cea-4488-cc86-d6b1f45397b8"
      },
      "outputs": [
        {
          "name": "stdout",
          "output_type": "stream",
          "text": [
            "a    30\n",
            "f    10\n",
            "c    50\n",
            "z    40\n",
            "e    20\n",
            "e    20\n",
            "dtype: int64\n",
            "\n",
            "e    20\n",
            "e    20\n",
            "dtype: int64\n",
            "\n",
            "e    20\n",
            "e    20\n",
            "dtype: int64\n",
            "\n",
            "iloc[4] : 20\n",
            "\n",
            "False\n"
          ]
        }
      ],
      "source": [
        "ser3 = pd.Series([30,10,50,40,20,20], index=['a','f','c','z','e','e'])  ## you can give your own indexes\n",
        "print(ser3)\n",
        "print()\n",
        "\n",
        "print(ser3['e'])       ## print(ser3['e']) == print(ser3.loc['e']) --> gives the same output\n",
        "print()\n",
        "\n",
        "print(ser3.loc['e'])\n",
        "\n",
        "print()\n",
        "\n",
        "print('iloc[4] :',ser3.iloc[4])   ## diff btw loc and iloc--> loc signifies INDEX NAME, iloc INDEX NUMBER\n",
        "print()\n",
        "\n",
        "print(ser3.index.is_unique)   ## is_unique --> gives boolean(true/false)\n"
      ]
    },
    {
      "cell_type": "code",
      "execution_count": null,
      "id": "5efce266",
      "metadata": {
        "id": "5efce266",
        "outputId": "e4910e58-b3b1-4784-bf64-f98c955e7dc6"
      },
      "outputs": [
        {
          "name": "stdout",
          "output_type": "stream",
          "text": [
            "<class 'list'>\n",
            "[40, 20]\n"
          ]
        }
      ],
      "source": [
        "ser4 = pd.Series([30,10,50,40,40,20], index=['a','f','c','z','e','e'])  ## you can give your own indexes\n",
        "\n",
        "print(type(ser4.loc['e'].values.tolist()))\n",
        "\n",
        "print(ser4.loc['e'].values.tolist())"
      ]
    },
    {
      "cell_type": "code",
      "execution_count": null,
      "id": "a18f949c",
      "metadata": {
        "id": "a18f949c",
        "outputId": "22a337b2-5918-44dd-a24e-c746ae545c8b"
      },
      "outputs": [
        {
          "name": "stdout",
          "output_type": "stream",
          "text": [
            "a    30\n",
            "dtype: int64\n",
            "a     True\n",
            "f    False\n",
            "c    False\n",
            "z    False\n",
            "e    False\n",
            "e    False\n",
            "dtype: bool\n"
          ]
        }
      ],
      "source": [
        "print(ser4[ser4 == 30])\n",
        "\n",
        "# return True/ False\n",
        "print(ser4 == 30)"
      ]
    },
    {
      "cell_type": "code",
      "execution_count": null,
      "id": "446b3fe6",
      "metadata": {
        "id": "446b3fe6",
        "outputId": "981a22f4-1583-4920-eccb-4e05ef8cf7dc"
      },
      "outputs": [
        {
          "data": {
            "text/plain": [
              "i1  a    30\n",
              "    f    10\n",
              "i2  c    50\n",
              "    z    40\n",
              "i3  r    35\n",
              "    y    60\n",
              "dtype: int64"
            ]
          },
          "execution_count": 69,
          "metadata": {},
          "output_type": "execute_result"
        }
      ],
      "source": [
        "# Two Indexes\n",
        "ser5 = pd.Series([30,10,50,40,35,60], index=[['i1', 'i1', 'i2', 'i2', 'i3', 'i3'],['a','f','c','z','r', 'y']])\n",
        "ser5"
      ]
    },
    {
      "cell_type": "code",
      "execution_count": null,
      "id": "4d2a16d8",
      "metadata": {
        "id": "4d2a16d8",
        "outputId": "5b8ae313-473a-4f41-f94c-b8a5c3ef9ba5"
      },
      "outputs": [
        {
          "name": "stdout",
          "output_type": "stream",
          "text": [
            "MultiIndex([('i1', 'a'),\n",
            "            ('i1', 'f'),\n",
            "            ('i2', 'c'),\n",
            "            ('i2', 'z'),\n",
            "            ('i3', 'r'),\n",
            "            ('i3', 'y')],\n",
            "           )\n",
            "[30 10 50 40 35 60]\n"
          ]
        }
      ],
      "source": [
        "print(ser5.index)\n",
        "print(ser5.values)"
      ]
    },
    {
      "cell_type": "code",
      "execution_count": null,
      "id": "00086da8",
      "metadata": {
        "id": "00086da8",
        "outputId": "1165f501-bdfc-40e6-e853-c0848b389559"
      },
      "outputs": [
        {
          "name": "stdout",
          "output_type": "stream",
          "text": [
            "a    30\n",
            "f    10\n",
            "dtype: int64\n",
            "30\n",
            "10\n",
            "-------------\n",
            "c    50\n",
            "z    40\n",
            "dtype: int64\n",
            "-------------\n",
            "r    35\n",
            "y    60\n",
            "dtype: int64\n"
          ]
        }
      ],
      "source": [
        "print(ser5.loc['i1'])\n",
        "print(ser5.loc['i1']['a'])\n",
        "print(ser5.loc['i1', 'f'])\n",
        "print('-------------')\n",
        "\n",
        "print(ser5.loc['i2'])\n",
        "print('-------------')\n",
        "\n",
        "print(ser5.loc['i3'])"
      ]
    },
    {
      "cell_type": "code",
      "execution_count": null,
      "id": "70600a11",
      "metadata": {
        "id": "70600a11",
        "outputId": "fb7b5e05-c606-4818-8b1d-33387055640d"
      },
      "outputs": [
        {
          "name": "stdout",
          "output_type": "stream",
          "text": [
            "i1  a    30\n",
            "    f    10\n",
            "i2  c    50\n",
            "    z    40\n",
            "i3  r    35\n",
            "dtype: int64\n"
          ]
        }
      ],
      "source": [
        "print(ser5.iloc[:5])"
      ]
    },
    {
      "cell_type": "code",
      "execution_count": null,
      "id": "51628f49",
      "metadata": {
        "id": "51628f49",
        "outputId": "cd0272f5-5c37-4089-ac48-46386334e410"
      },
      "outputs": [
        {
          "name": "stdout",
          "output_type": "stream",
          "text": [
            "a    30\n",
            "f    10\n",
            "c    50\n",
            "z    40\n",
            "r    35\n",
            "y    60\n",
            "dtype: int64\n"
          ]
        }
      ],
      "source": [
        "ser6 = pd.Series([30,10,50,40,35,60], index=['a','f','c','z','r', 'y'])\n",
        "print(ser6)\n"
      ]
    },
    {
      "cell_type": "code",
      "execution_count": null,
      "id": "af777ea6",
      "metadata": {
        "id": "af777ea6",
        "outputId": "a4db410b-91c7-406e-bbe8-36acd05b3c6a"
      },
      "outputs": [
        {
          "name": "stdout",
          "output_type": "stream",
          "text": [
            "a     NaN\n",
            "f     NaN\n",
            "c    50.0\n",
            "z    40.0\n",
            "r    35.0\n",
            "y    60.0\n",
            "dtype: float64\n"
          ]
        }
      ],
      "source": [
        "ser6.iloc[0] = None\n",
        "\n",
        "ser6.iloc[1]= np.nan\n",
        "\n",
        "print(ser6)"
      ]
    },
    {
      "cell_type": "code",
      "execution_count": null,
      "id": "57e3f0d4",
      "metadata": {
        "id": "57e3f0d4",
        "outputId": "e5596840-727f-47a4-aac9-283831e4aa23"
      },
      "outputs": [
        {
          "name": "stdout",
          "output_type": "stream",
          "text": [
            "a     NaN\n",
            "f     NaN\n",
            "c    34.0\n",
            "z     NaN\n",
            "r    35.0\n",
            "y    60.0\n",
            "dtype: float64\n"
          ]
        }
      ],
      "source": [
        "ser6.loc['c'] = 34\n",
        "\n",
        "ser6.loc['z']= np.nan\n",
        "\n",
        "print(ser6)"
      ]
    },
    {
      "cell_type": "code",
      "execution_count": null,
      "id": "817f0e3b",
      "metadata": {
        "id": "817f0e3b",
        "outputId": "ffa53eec-507d-4150-89d1-fcdba6dd93c2"
      },
      "outputs": [
        {
          "name": "stdout",
          "output_type": "stream",
          "text": [
            "a     True\n",
            "f     True\n",
            "c     True\n",
            "z     True\n",
            "r    False\n",
            "y    False\n",
            "dtype: bool\n",
            "----------------\n",
            "4\n"
          ]
        }
      ],
      "source": [
        "print(pd.isnull(ser6))\n",
        "print(\"----------------\")\n",
        "print(pd.isnull(ser6).sum())"
      ]
    },
    {
      "cell_type": "code",
      "execution_count": null,
      "id": "0619797e",
      "metadata": {
        "id": "0619797e",
        "outputId": "3d28d092-8d58-41e8-9d8f-c7e77d100794"
      },
      "outputs": [
        {
          "data": {
            "text/plain": [
              "c    34.0\n",
              "r    35.0\n",
              "y    60.0\n",
              "dtype: float64"
            ]
          },
          "execution_count": 105,
          "metadata": {},
          "output_type": "execute_result"
        }
      ],
      "source": [
        "ser6.dropna()"
      ]
    },
    {
      "cell_type": "code",
      "execution_count": null,
      "id": "248e7965",
      "metadata": {
        "id": "248e7965",
        "outputId": "fbbe0a0a-a166-4deb-979d-d111b9a9d081"
      },
      "outputs": [
        {
          "data": {
            "text/plain": [
              "c    34.0\n",
              "r    35.0\n",
              "y    60.0\n",
              "dtype: float64"
            ]
          },
          "execution_count": 108,
          "metadata": {},
          "output_type": "execute_result"
        }
      ],
      "source": [
        "ser6[ser6.notnull()]   ## ser6.dropna()  and ser6[ser6.notnull()]  return the same result"
      ]
    },
    {
      "cell_type": "code",
      "execution_count": null,
      "id": "72762eaa",
      "metadata": {
        "id": "72762eaa",
        "outputId": "41b2b8c0-9999-4c73-b1cd-c1bf31dca84a"
      },
      "outputs": [
        {
          "data": {
            "text/plain": [
              "34    20000\n",
              "25    40000\n",
              "20    35000\n",
              "37    25000\n",
              "28    15000\n",
              "dtype: int64"
            ]
          },
          "execution_count": 109,
          "metadata": {},
          "output_type": "execute_result"
        }
      ],
      "source": [
        "age = [34,25,20,37,28]\n",
        "sal = [20000, 40000, 35000, 25000, 15000]\n",
        "\n",
        "age_sal = pd.Series(sal, index = age)\n",
        "age_sal"
      ]
    },
    {
      "cell_type": "code",
      "execution_count": null,
      "id": "0ac4ecc9",
      "metadata": {
        "id": "0ac4ecc9"
      },
      "outputs": [],
      "source": [
        "# Assign name to index and value\n",
        "age_sal.name = 'Emp_Sal'\n",
        "age_sal.index.name = 'Emp_Age'"
      ]
    },
    {
      "cell_type": "code",
      "execution_count": null,
      "id": "ce6a5930",
      "metadata": {
        "id": "ce6a5930",
        "outputId": "a8c3d22c-e3da-491f-c9f2-8640fb2cee1d"
      },
      "outputs": [
        {
          "data": {
            "text/plain": [
              "Emp_Age\n",
              "34    20000\n",
              "25    40000\n",
              "20    35000\n",
              "37    25000\n",
              "28    15000\n",
              "Name: Emp_Sal, dtype: int64"
            ]
          },
          "execution_count": 111,
          "metadata": {},
          "output_type": "execute_result"
        }
      ],
      "source": [
        "age_sal"
      ]
    },
    {
      "cell_type": "code",
      "execution_count": null,
      "id": "e7c788f5",
      "metadata": {
        "id": "e7c788f5",
        "outputId": "59d02d35-78c8-4aaf-b504-d5a632f3f447"
      },
      "outputs": [
        {
          "data": {
            "text/plain": [
              "Emp_Age\n",
              "20    35000\n",
              "37    25000\n",
              "28    15000\n",
              "Name: Emp_Sal, dtype: int64"
            ]
          },
          "execution_count": 115,
          "metadata": {},
          "output_type": "execute_result"
        }
      ],
      "source": [
        "age_sal_drop = age_sal.drop([34,25])  ## drop the specific values\n",
        "age_sal_drop "
      ]
    },
    {
      "cell_type": "code",
      "execution_count": null,
      "id": "88481991",
      "metadata": {
        "id": "88481991"
      },
      "outputs": [],
      "source": []
    }
  ],
  "metadata": {
    "kernelspec": {
      "display_name": "Python 3 (ipykernel)",
      "language": "python",
      "name": "python3"
    },
    "language_info": {
      "codemirror_mode": {
        "name": "ipython",
        "version": 3
      },
      "file_extension": ".py",
      "mimetype": "text/x-python",
      "name": "python",
      "nbconvert_exporter": "python",
      "pygments_lexer": "ipython3",
      "version": "3.9.13"
    },
    "colab": {
      "provenance": [],
      "include_colab_link": true
    }
  },
  "nbformat": 4,
  "nbformat_minor": 5
}