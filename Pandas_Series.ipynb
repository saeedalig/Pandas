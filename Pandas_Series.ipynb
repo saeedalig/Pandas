{
  "cells": [
    {
      "cell_type": "markdown",
      "metadata": {
        "id": "view-in-github",
        "colab_type": "text"
      },
      "source": [
        "<a href=\"https://colab.research.google.com/github/saeedalig/Pandas-Tutorial/blob/main/Pandas_Series.ipynb\" target=\"_parent\"><img src=\"https://colab.research.google.com/assets/colab-badge.svg\" alt=\"Open In Colab\"/></a>"
      ]
    },
    {
      "cell_type": "markdown",
      "id": "7eae0f6e",
      "metadata": {
        "id": "7eae0f6e"
      },
      "source": [
        "## Introduction to Pandas\n",
        "\n",
        "Pandas is an open-source library that is made mainly for working with relational or labeled data. It provides various data structures and operations for manipulating numerical data and time series. This library is built on top of the NumPy library. Pandas is fast and it has high performance & productivity for users.\n",
        "\n",
        "Advantages\n",
        "\n",
        "1.Fast and efficient for manipulating and analyzing data.\\\n",
        "2.Data from different file objects can be loaded.\\\n",
        "3.Easy handling of missing data (represented as NaN) in floating point as well as non-floating point data\\\n",
        "4.Size mutability: columns can be inserted and deleted from DataFrame and higher dimensional objects\\\n",
        "5.Data set merging and joining.\\\n",
        "6.Flexible reshaping and pivoting of data sets\\\n",
        "7.Provides time-series functionality.\n",
        "\n",
        "\n",
        "Pandas generally provide two data structures for manipulating data, They are:\n",
        "\n",
        "Series \\\n",
        "DataFrame  "
      ]
    },
    {
      "cell_type": "markdown",
      "id": "532cb449",
      "metadata": {
        "id": "532cb449"
      },
      "source": [
        "### Series [ pd.Series()]\n",
        "\n",
        "Pandas Series is a one-dimensional labeled array capable of holding data of any type (integer, string, float, python objects, etc.). The axis labels are collectively called indexes. Pandas Series is nothing but a column in an excel sheet. Labels need not be unique but must be a hashable type. The object supports both integer and label-based indexing and provides a host of methods for performing operations involving the index.\n"
      ]
    },
    {
      "cell_type": "markdown",
      "id": "bbcd8fee",
      "metadata": {
        "id": "bbcd8fee"
      },
      "source": [
        "### DataFrame  [ pd.DataFrame() ]\n",
        "\n",
        "Pandas DataFrame is a two-dimensional size-mutable, potentially heterogeneous tabular data structure with labeled axes (rows and columns). A Data frame is a two-dimensional data structure, i.e., data is aligned in a tabular fashion in rows and columns. Pandas DataFrame consists of three principal components, the data, rows, and columns."
      ]
    },
    {
      "cell_type": "code",
      "execution_count": null,
      "id": "2463842e",
      "metadata": {
        "id": "2463842e"
      },
      "outputs": [],
      "source": [
        "import pandas as pd\n",
        "import numpy as np\n",
        "import matplotlib.pyplot as plt\n",
        "import seaborn as sns"
      ]
    },
    {
      "cell_type": "code",
      "execution_count": null,
      "id": "7a55add2",
      "metadata": {
        "id": "7a55add2",
        "outputId": "017e4937-ad17-4ac9-de76-208d8d187109"
      },
      "outputs": [
        {
          "name": "stdout",
          "output_type": "stream",
          "text": [
            "0    1\n",
            "1    2\n",
            "2    3\n",
            "3    4\n",
            "4    5\n",
            "dtype: int64\n",
            "\n",
            "values : [1 2 3 4 5]\n",
            "\n",
            "index : RangeIndex(start=0, stop=5, step=1)\n"
          ]
        }
      ],
      "source": [
        "ser = pd.Series([1,2,3,4,5])  ## 0-4 --> index( by default )  1-5 --> values\n",
        "print(ser)\n",
        "print()\n",
        "print('values :', ser.values)\n",
        "print()\n",
        "print('index :', ser.index)"
      ]
    },
    {
      "cell_type": "code",
      "execution_count": null,
      "id": "1e56f5fc",
      "metadata": {
        "id": "1e56f5fc",
        "outputId": "78bbca1c-2532-40ed-bc1a-5fb98819df9d"
      },
      "outputs": [
        {
          "name": "stdout",
          "output_type": "stream",
          "text": [
            "0    1\n",
            "1    2\n",
            "2    3\n",
            "3    4\n",
            "dtype: int64\n",
            "\n",
            "0    False\n",
            "1    False\n",
            "2    False\n",
            "3     True\n",
            "4     True\n",
            "dtype: bool\n",
            "\n",
            "3    4\n",
            "4    5\n",
            "dtype: int64\n"
          ]
        }
      ],
      "source": [
        "# sclicing\n",
        "print(ser[0:4])\n",
        "print()\n",
        "print(ser > 3)  ## give true/false\n",
        "print()\n",
        "print(ser[ser > 3])"
      ]
    },
    {
      "cell_type": "code",
      "execution_count": null,
      "id": "a63524e2",
      "metadata": {
        "id": "a63524e2",
        "outputId": "5399349b-adc7-4201-dfca-59e2cbff32ec"
      },
      "outputs": [
        {
          "name": "stdout",
          "output_type": "stream",
          "text": [
            "0    1\n",
            "1    2\n",
            "2    3\n",
            "3    4\n",
            "4    5\n",
            "dtype: int64\n",
            "\n",
            "True\n",
            "\n",
            "True\n"
          ]
        }
      ],
      "source": [
        "ser = pd.Series([1,2,3,4,5])  ## 0-4 --> index( by default )  1-5 --> values\n",
        "print(ser)\n",
        "print()\n",
        "\n",
        "print(2 in ser) ## whether 2 is present or not in given values (Boolean)\n",
        "2 in ser.values\n",
        "print()\n",
        "\n",
        "print(2 in ser.index)  ## ## whether 2 is present or not in given indexes (Boolean)"
      ]
    },
    {
      "cell_type": "code",
      "execution_count": null,
      "id": "d0e7608c",
      "metadata": {
        "id": "d0e7608c",
        "outputId": "c4dca3e7-3cf3-43a2-9b49-000e86b19897"
      },
      "outputs": [
        {
          "name": "stdout",
          "output_type": "stream",
          "text": [
            "a    30\n",
            "f    10\n",
            "c    50\n",
            "z    40\n",
            "e    20\n",
            "dtype: int64\n",
            "\n",
            "a    30\n",
            "c    50\n",
            "e    20\n",
            "f    10\n",
            "z    40\n",
            "dtype: int64\n",
            "\n",
            "f    10\n",
            "e    20\n",
            "a    30\n",
            "z    40\n",
            "c    50\n",
            "dtype: int64\n"
          ]
        }
      ],
      "source": [
        "ser1 = pd.Series([30,10,50,40,20], index=['a','f','c','z','e'])  ## you can give your own indexes\n",
        "print(ser1)\n",
        "print()\n",
        "\n",
        "## sorted the index\n",
        "print(ser1.sort_index())\n",
        "print()\n",
        "\n",
        "## sorted the values (ascending order)\n",
        "print(ser1.sort_values())"
      ]
    },
    {
      "cell_type": "code",
      "execution_count": null,
      "id": "8c6c98ae",
      "metadata": {
        "id": "8c6c98ae",
        "outputId": "62d44b02-5dbd-4f78-ddae-e34d9195963c"
      },
      "outputs": [
        {
          "name": "stdout",
          "output_type": "stream",
          "text": [
            "e    10.0\n",
            "t    50.0\n",
            "s     NaN\n",
            "a    60.0\n",
            "l    30.0\n",
            "g    15.0\n",
            "dtype: float64\n",
            "\n",
            "a    60.0\n",
            "e    10.0\n",
            "g    15.0\n",
            "l    30.0\n",
            "s     NaN\n",
            "t    50.0\n",
            "dtype: float64\n",
            "\n",
            "e    10.0\n",
            "g    15.0\n",
            "l    30.0\n",
            "t    50.0\n",
            "a    60.0\n",
            "s     NaN\n",
            "dtype: float64\n"
          ]
        }
      ],
      "source": [
        "ser2 = pd.Series([10,50, np.nan,60,30,15], index=['e','t','s', 'a', 'l', 'g'])\n",
        "print(ser2)\n",
        "print()\n",
        "\n",
        "print(ser2.sort_index())\n",
        "\n",
        "print()\n",
        "\n",
        "print(ser2.sort_values())"
      ]
    },
    {
      "cell_type": "markdown",
      "id": "7ab5d546",
      "metadata": {
        "id": "7ab5d546"
      },
      "source": [
        "### rank() \n",
        "DataFrame.rank(axis=0, method=’average’, numeric_only=None, na_option=’keep’, ascending=True, pct=False)"
      ]
    },
    {
      "cell_type": "code",
      "execution_count": null,
      "id": "6f875b17",
      "metadata": {
        "id": "6f875b17",
        "outputId": "7af633d4-6c28-48dc-aa78-c2c7359d1e4d"
      },
      "outputs": [
        {
          "name": "stdout",
          "output_type": "stream",
          "text": [
            "e    1.0\n",
            "t    4.0\n",
            "s    NaN\n",
            "a    5.0\n",
            "l    3.0\n",
            "g    2.0\n",
            "dtype: float64\n"
          ]
        }
      ],
      "source": [
        "ser2 = pd.Series([10,50, np.nan,60,30,15], index=['e','t','s', 'a', 'l', 'g'])\n",
        "print(ser2.rank(ascending=True ,method='dense'))"
      ]
    },
    {
      "cell_type": "code",
      "execution_count": null,
      "id": "e0ef0061",
      "metadata": {
        "id": "e0ef0061",
        "outputId": "fbfc6703-359e-4b9e-9924-8380052ba31a"
      },
      "outputs": [
        {
          "name": "stdout",
          "output_type": "stream",
          "text": [
            "a    30\n",
            "f    10\n",
            "c    50\n",
            "z    40\n",
            "e    20\n",
            "e    20\n",
            "dtype: int64\n",
            "\n",
            "e    20\n",
            "e    20\n",
            "dtype: int64\n",
            "\n",
            "e    20\n",
            "e    20\n",
            "dtype: int64\n",
            "\n",
            "iloc[4] : 20\n",
            "\n",
            "False\n"
          ]
        }
      ],
      "source": [
        "ser3 = pd.Series([30,10,50,40,20,20], index=['a','f','c','z','e','e'])  ## you can give your own indexes\n",
        "print(ser3)\n",
        "print()\n",
        "\n",
        "print(ser3['e'])       ## print(ser3['e']) == print(ser3.loc['e']) --> gives the same output\n",
        "print()\n",
        "\n",
        "print(ser3.loc['e'])\n",
        "\n",
        "print()\n",
        "\n",
        "print('iloc[4] :',ser3.iloc[4])   ## diff btw loc and iloc--> loc signifies INDEX NAME, iloc INDEX NUMBER\n",
        "print()\n",
        "\n",
        "print(ser3.index.is_unique)   ## is_unique --> gives boolean(true/false)\n"
      ]
    },
    {
      "cell_type": "code",
      "execution_count": null,
      "id": "5efce266",
      "metadata": {
        "id": "5efce266",
        "outputId": "40ba0500-bcf2-4686-a996-22a7cfdcba6c"
      },
      "outputs": [
        {
          "name": "stdout",
          "output_type": "stream",
          "text": [
            "<class 'list'>\n",
            "[40, 20]\n"
          ]
        }
      ],
      "source": [
        "ser4 = pd.Series([30,10,50,40,40,20], index=['a','f','c','z','e','e'])  ## you can give your own indexes\n",
        "\n",
        "print(type(ser4.loc['e'].values.tolist()))\n",
        "\n",
        "print(ser4.loc['e'].values.tolist())"
      ]
    },
    {
      "cell_type": "code",
      "execution_count": null,
      "id": "a18f949c",
      "metadata": {
        "id": "a18f949c",
        "outputId": "52813a2b-e255-45aa-ac06-fa380f3c36d1"
      },
      "outputs": [
        {
          "name": "stdout",
          "output_type": "stream",
          "text": [
            "a    30\n",
            "dtype: int64\n",
            "a     True\n",
            "f    False\n",
            "c    False\n",
            "z    False\n",
            "e    False\n",
            "e    False\n",
            "dtype: bool\n"
          ]
        }
      ],
      "source": [
        "print(ser4[ser4 == 30])\n",
        "\n",
        "# return True/ False\n",
        "print(ser4 == 30)"
      ]
    },
    {
      "cell_type": "code",
      "execution_count": null,
      "id": "446b3fe6",
      "metadata": {
        "id": "446b3fe6",
        "outputId": "0c9a8ff7-5462-4204-b1f6-ea3939675b4b"
      },
      "outputs": [
        {
          "data": {
            "text/plain": [
              "i1  a    30\n",
              "    f    10\n",
              "i2  c    50\n",
              "    z    40\n",
              "i3  r    35\n",
              "    y    60\n",
              "dtype: int64"
            ]
          },
          "execution_count": 69,
          "metadata": {},
          "output_type": "execute_result"
        }
      ],
      "source": [
        "# Two Indexes\n",
        "ser5 = pd.Series([30,10,50,40,35,60], index=[['i1', 'i1', 'i2', 'i2', 'i3', 'i3'],['a','f','c','z','r', 'y']])\n",
        "ser5"
      ]
    },
    {
      "cell_type": "code",
      "execution_count": null,
      "id": "4d2a16d8",
      "metadata": {
        "id": "4d2a16d8",
        "outputId": "95cfd4fc-84ca-4d6d-fda8-9614ebc697cb"
      },
      "outputs": [
        {
          "name": "stdout",
          "output_type": "stream",
          "text": [
            "MultiIndex([('i1', 'a'),\n",
            "            ('i1', 'f'),\n",
            "            ('i2', 'c'),\n",
            "            ('i2', 'z'),\n",
            "            ('i3', 'r'),\n",
            "            ('i3', 'y')],\n",
            "           )\n",
            "[30 10 50 40 35 60]\n"
          ]
        }
      ],
      "source": [
        "print(ser5.index)\n",
        "print(ser5.values)"
      ]
    },
    {
      "cell_type": "code",
      "execution_count": null,
      "id": "00086da8",
      "metadata": {
        "id": "00086da8",
        "outputId": "a39de3f3-a046-4e93-a2c2-82dbe30b6f0b"
      },
      "outputs": [
        {
          "name": "stdout",
          "output_type": "stream",
          "text": [
            "a    30\n",
            "f    10\n",
            "dtype: int64\n",
            "30\n",
            "10\n",
            "-------------\n",
            "c    50\n",
            "z    40\n",
            "dtype: int64\n",
            "-------------\n",
            "r    35\n",
            "y    60\n",
            "dtype: int64\n"
          ]
        }
      ],
      "source": [
        "print(ser5.loc['i1'])\n",
        "print(ser5.loc['i1']['a'])\n",
        "print(ser5.loc['i1', 'f'])\n",
        "print('-------------')\n",
        "\n",
        "print(ser5.loc['i2'])\n",
        "print('-------------')\n",
        "\n",
        "print(ser5.loc['i3'])"
      ]
    },
    {
      "cell_type": "code",
      "execution_count": null,
      "id": "70600a11",
      "metadata": {
        "id": "70600a11",
        "outputId": "49f49dd2-03af-4f84-aba5-4a9870abcaae"
      },
      "outputs": [
        {
          "name": "stdout",
          "output_type": "stream",
          "text": [
            "i1  a    30\n",
            "    f    10\n",
            "i2  c    50\n",
            "    z    40\n",
            "i3  r    35\n",
            "dtype: int64\n"
          ]
        }
      ],
      "source": [
        "print(ser5.iloc[:5])"
      ]
    },
    {
      "cell_type": "code",
      "execution_count": null,
      "id": "51628f49",
      "metadata": {
        "id": "51628f49",
        "outputId": "7a522c34-ceda-4c6f-f866-5c669bbce093"
      },
      "outputs": [
        {
          "name": "stdout",
          "output_type": "stream",
          "text": [
            "a    30\n",
            "f    10\n",
            "c    50\n",
            "z    40\n",
            "r    35\n",
            "y    60\n",
            "dtype: int64\n"
          ]
        }
      ],
      "source": [
        "ser6 = pd.Series([30,10,50,40,35,60], index=['a','f','c','z','r', 'y'])\n",
        "print(ser6)\n"
      ]
    },
    {
      "cell_type": "code",
      "execution_count": null,
      "id": "af777ea6",
      "metadata": {
        "id": "af777ea6",
        "outputId": "dce1cef3-6759-4f69-c09b-2de78dcf6fa3"
      },
      "outputs": [
        {
          "name": "stdout",
          "output_type": "stream",
          "text": [
            "a     NaN\n",
            "f     NaN\n",
            "c    50.0\n",
            "z    40.0\n",
            "r    35.0\n",
            "y    60.0\n",
            "dtype: float64\n"
          ]
        }
      ],
      "source": [
        "ser6.iloc[0] = None\n",
        "\n",
        "ser6.iloc[1]= np.nan\n",
        "\n",
        "print(ser6)"
      ]
    },
    {
      "cell_type": "code",
      "execution_count": null,
      "id": "57e3f0d4",
      "metadata": {
        "id": "57e3f0d4",
        "outputId": "9b233d1b-4760-455c-a137-ea229896b42d"
      },
      "outputs": [
        {
          "name": "stdout",
          "output_type": "stream",
          "text": [
            "a     NaN\n",
            "f     NaN\n",
            "c    34.0\n",
            "z     NaN\n",
            "r    35.0\n",
            "y    60.0\n",
            "dtype: float64\n"
          ]
        }
      ],
      "source": [
        "ser6.loc['c'] = 34\n",
        "\n",
        "ser6.loc['z']= np.nan\n",
        "\n",
        "print(ser6)"
      ]
    },
    {
      "cell_type": "code",
      "execution_count": null,
      "id": "817f0e3b",
      "metadata": {
        "id": "817f0e3b",
        "outputId": "7f79951e-1927-41eb-c627-65932d430013"
      },
      "outputs": [
        {
          "name": "stdout",
          "output_type": "stream",
          "text": [
            "a     True\n",
            "f     True\n",
            "c     True\n",
            "z     True\n",
            "r    False\n",
            "y    False\n",
            "dtype: bool\n",
            "----------------\n",
            "4\n"
          ]
        }
      ],
      "source": [
        "print(pd.isnull(ser6))\n",
        "print(\"----------------\")\n",
        "print(pd.isnull(ser6).sum())"
      ]
    },
    {
      "cell_type": "code",
      "execution_count": null,
      "id": "0619797e",
      "metadata": {
        "id": "0619797e",
        "outputId": "c6631775-1be4-4f59-9d68-099c156b9143"
      },
      "outputs": [
        {
          "data": {
            "text/plain": [
              "c    34.0\n",
              "r    35.0\n",
              "y    60.0\n",
              "dtype: float64"
            ]
          },
          "execution_count": 105,
          "metadata": {},
          "output_type": "execute_result"
        }
      ],
      "source": [
        "ser6.dropna()"
      ]
    },
    {
      "cell_type": "code",
      "execution_count": null,
      "id": "248e7965",
      "metadata": {
        "id": "248e7965",
        "outputId": "19338292-56bd-4f77-9f69-2238d7a8e332"
      },
      "outputs": [
        {
          "data": {
            "text/plain": [
              "c    34.0\n",
              "r    35.0\n",
              "y    60.0\n",
              "dtype: float64"
            ]
          },
          "execution_count": 108,
          "metadata": {},
          "output_type": "execute_result"
        }
      ],
      "source": [
        "ser6[ser6.notnull()]   ## ser6.dropna()  and ser6[ser6.notnull()]  return the same result"
      ]
    },
    {
      "cell_type": "code",
      "execution_count": null,
      "id": "72762eaa",
      "metadata": {
        "id": "72762eaa",
        "outputId": "430047bc-e3ee-4ebb-9633-acd67cd6e095"
      },
      "outputs": [
        {
          "data": {
            "text/plain": [
              "34    20000\n",
              "25    40000\n",
              "20    35000\n",
              "37    25000\n",
              "28    15000\n",
              "dtype: int64"
            ]
          },
          "execution_count": 109,
          "metadata": {},
          "output_type": "execute_result"
        }
      ],
      "source": [
        "age = [34,25,20,37,28]\n",
        "sal = [20000, 40000, 35000, 25000, 15000]\n",
        "\n",
        "age_sal = pd.Series(sal, index = age)\n",
        "age_sal"
      ]
    },
    {
      "cell_type": "code",
      "execution_count": null,
      "id": "0ac4ecc9",
      "metadata": {
        "id": "0ac4ecc9"
      },
      "outputs": [],
      "source": [
        "# Assign name to index and value\n",
        "age_sal.name = 'Emp_Sal'\n",
        "age_sal.index.name = 'Emp_Age'"
      ]
    },
    {
      "cell_type": "code",
      "execution_count": null,
      "id": "ce6a5930",
      "metadata": {
        "id": "ce6a5930",
        "outputId": "41155a6a-b155-461d-dd55-da2cc41ae648"
      },
      "outputs": [
        {
          "data": {
            "text/plain": [
              "Emp_Age\n",
              "34    20000\n",
              "25    40000\n",
              "20    35000\n",
              "37    25000\n",
              "28    15000\n",
              "Name: Emp_Sal, dtype: int64"
            ]
          },
          "execution_count": 111,
          "metadata": {},
          "output_type": "execute_result"
        }
      ],
      "source": [
        "age_sal"
      ]
    },
    {
      "cell_type": "code",
      "execution_count": null,
      "id": "e7c788f5",
      "metadata": {
        "id": "e7c788f5",
        "outputId": "55924cf1-8346-43fd-e1ee-16370336fb74"
      },
      "outputs": [
        {
          "data": {
            "text/plain": [
              "Emp_Age\n",
              "20    35000\n",
              "37    25000\n",
              "28    15000\n",
              "Name: Emp_Sal, dtype: int64"
            ]
          },
          "execution_count": 115,
          "metadata": {},
          "output_type": "execute_result"
        }
      ],
      "source": [
        "age_sal_drop = age_sal.drop([34,25])  ## drop the specific values\n",
        "age_sal_drop "
      ]
    },
    {
      "cell_type": "code",
      "execution_count": null,
      "id": "88481991",
      "metadata": {
        "id": "88481991"
      },
      "outputs": [],
      "source": []
    }
  ],
  "metadata": {
    "kernelspec": {
      "display_name": "Python 3 (ipykernel)",
      "language": "python",
      "name": "python3"
    },
    "language_info": {
      "codemirror_mode": {
        "name": "ipython",
        "version": 3
      },
      "file_extension": ".py",
      "mimetype": "text/x-python",
      "name": "python",
      "nbconvert_exporter": "python",
      "pygments_lexer": "ipython3",
      "version": "3.9.13"
    },
    "colab": {
      "provenance": [],
      "include_colab_link": true
    }
  },
  "nbformat": 4,
  "nbformat_minor": 5
}